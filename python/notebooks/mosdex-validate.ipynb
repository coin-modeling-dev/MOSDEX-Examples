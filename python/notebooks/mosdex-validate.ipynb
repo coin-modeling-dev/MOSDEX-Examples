{
 "cells": [
  {
   "cell_type": "code",
   "execution_count": 1,
   "metadata": {},
   "outputs": [],
   "source": [
    "import json\n",
    "import os\n",
    "from jsonschema import validate\n",
    "\n",
    "example_dir = \"../../MOSDEX-Examples/MOSDEX-1.2\"\n",
    "\n",
    "cutting_stock_file = \"cuttingStock_1-2.json\"\n",
    "with open(os.path.join(example_dir, cutting_stock_file)) as f:\n",
    "    cs_json = json.load(f)\n",
    "\n",
    "\n",
    "schema_file = \"MOSDEXSchemaV1-2.json\"\n",
    "with open(os.path.join(example_dir, schema_file)) as f:\n",
    "    mosdex_schema = json.load(f)"
   ]
  },
  {
   "cell_type": "code",
   "execution_count": 2,
   "metadata": {},
   "outputs": [
    {
     "name": "stdout",
     "output_type": "stream",
     "text": [
      "Is the file cuttingStock_1-2.json a valid instance of MOSDEXSchemaV1-2.json: False\n",
      "\n",
      "\n",
      "(\"{'CLASS': 'TERM', 'TYPE': 'LINEAR', 'RECIPE': [{'DIRECTIVE': ['QUERY'], \"\n",
      " '\\'PREDICATE\\': [\\'SELECT\\', \"\\'LINEAR\\' AS Type\", \"\\'cost\\' AS Row\", '\n",
      " \"'rolls.Column AS Column', 'patterns.cost AS Coefficient', 'FROM', 'rolls', \"\n",
      " \"'JOIN', 'patterns', 'ON', '(rolls.pattern = patterns.id)']}]} is not valid \"\n",
      " 'under any of the given schemas')\n",
      "\n",
      "\n",
      "(\"{'CLASS': 'TERM', 'TYPE': 'LINEAR', 'RECIPE': [{'DIRECTIVE': ['QUERY'], \"\n",
      " '\\'PREDICATE\\': [\\'SELECT\\', \"\\'LINEAR\\' AS Type\", \\'ctOrder.Row AS Row\\', '\n",
      " \"'rolls.Column AS Column', 'slices.number AS Coefficient', 'FROM', 'ctOrder', \"\n",
      " \"'JOIN', 'patterns', 'JOIN', 'slices', 'ON', '((ctOrder.item = slices.item)', \"\n",
      " \"'AND', '(patterns.id = slices.pattern))', 'JOIN', 'rolls', 'ON', \"\n",
      " \"'(patterns.id = rolls.pattern)']}]} is not valid under any of the given \"\n",
      " 'schemas')\n",
      "\n",
      "\n",
      "(\"{'CLASS': 'TERM', 'TYPE': 'LINEAR', 'RECIPE': [{'DIRECTIVE': ['SELECT'], \"\n",
      " '\\'PREDICATE\\': [\"\\'LINEAR\\' AS Type\", \"\\'deReducedCost\\' AS Row\", '\n",
      " \"'slice.Column AS Column', '-duals.price AS Coefficient']}, {'DIRECTIVE': \"\n",
      " \"['FROM'], 'PREDICATE': ['items']}, {'DIRECTIVE': ['JOIN'], 'PREDICATE': \"\n",
      " \"['slice']}, {'DIRECTIVE': ['ON'], 'PREDICATE': ['(slice.item = items.id)']}, \"\n",
      " \"{'DIRECTIVE': ['JOIN'], 'PREDICATE': ['duals']}, {'DIRECTIVE': ['ON'], \"\n",
      " \"'PREDICATE': ['(duals.item = items.id)']}]} is not valid under any of the \"\n",
      " 'given schemas')\n",
      "\n",
      "\n",
      "(\"{'CLASS': 'TERM', 'TYPE': 'LINEAR', 'RECIPE': [{'DIRECTIVE': ['SELECT'], \"\n",
      " '\\'PREDICATE\\': [\"\\'LINEAR\\' AS Type\", \\'ctFill.Row AS Row\\', \\'slice.Column '\n",
      " \"AS Column', 'items.width AS Coefficient']}, {'DIRECTIVE': ['FROM'], \"\n",
      " \"'PREDICATE': ['ctFill']}, {'DIRECTIVE': ['JOIN'], 'PREDICATE': ['items']}, \"\n",
      " \"{'DIRECTIVE': ['JOIN'], 'PREDICATE': ['slice']}, {'DIRECTIVE': ['ON'], \"\n",
      " \"'PREDICATE': ['(slice.item = items.id)']}]} is not valid under any of the \"\n",
      " 'given schemas')\n",
      "\n",
      "\n",
      "(\"{'CLASS': 'TERM', 'TYPE': 'LINEAR', 'SINGLETON': {'Type': 'LINEAR', 'Row': \"\n",
      " \"'deReducedCost', 'Column': 'reducedCost', 'Coefficient': -1.0}} is not valid \"\n",
      " 'under any of the given schemas')\n",
      "\n",
      "\n",
      "(\"{'CLASS': 'TERM', 'TYPE': 'LINEAR', 'SINGLETON': {'Type': 'LINEAR', 'Row': \"\n",
      " \"'objective', 'Column': 'reducedCost', 'Coefficient': 1.0}} is not valid \"\n",
      " 'under any of the given schemas')\n",
      "\n"
     ]
    }
   ],
   "source": [
    "from jsonschema import Draft7Validator\n",
    "import pprint\n",
    "\n",
    "pp = pprint.PrettyPrinter(indent=8)\n",
    "\n",
    "v = Draft7Validator(mosdex_schema)\n",
    "print(\"Is the file {} a valid instance of {}: {}\".format(cutting_stock_file, schema_file, v.is_valid(cs_json)))\n",
    "print()\n",
    "\n",
    "for error in sorted(v.iter_errors(cs_json), key=str):\n",
    "    print()\n",
    "    pp.pprint(error.message)\n",
    "    print()"
   ]
  },
  {
   "cell_type": "code",
   "execution_count": null,
   "metadata": {},
   "outputs": [],
   "source": []
  }
 ],
 "metadata": {
  "kernelspec": {
   "display_name": "Python 3",
   "language": "python",
   "name": "python3"
  },
  "language_info": {
   "codemirror_mode": {
    "name": "ipython",
    "version": 3
   },
   "file_extension": ".py",
   "mimetype": "text/x-python",
   "name": "python",
   "nbconvert_exporter": "python",
   "pygments_lexer": "ipython3",
   "version": "3.7.3"
  }
 },
 "nbformat": 4,
 "nbformat_minor": 2
}
